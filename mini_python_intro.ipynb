{
  "nbformat": 4,
  "nbformat_minor": 0,
  "metadata": {
    "colab": {
      "provenance": [],
      "include_colab_link": true
    },
    "kernelspec": {
      "name": "python3",
      "display_name": "Python 3"
    },
    "language_info": {
      "name": "python"
    }
  },
  "cells": [
    {
      "cell_type": "markdown",
      "metadata": {
        "id": "view-in-github",
        "colab_type": "text"
      },
      "source": [
        "<a href=\"https://colab.research.google.com/github/uwl-python-ig/pig_notebooks_001/blob/main/mini_python_intro.ipynb\" target=\"_parent\"><img src=\"https://colab.research.google.com/assets/colab-badge.svg\" alt=\"Open In Colab\"/></a>"
      ]
    },
    {
      "cell_type": "markdown",
      "source": [
        "1. Exploring \"print\" function"
      ],
      "metadata": {
        "id": "DbuZccaoWXTz"
      }
    },
    {
      "cell_type": "code",
      "execution_count": null,
      "metadata": {
        "id": "6WgwNutEWK8H",
        "outputId": "bd7a8ab7-3c8e-4be1-e697-f8e6e8213fda",
        "colab": {
          "base_uri": "https://localhost:8080/"
        }
      },
      "outputs": [
        {
          "output_type": "stream",
          "name": "stdout",
          "text": [
            "Welcome to Wizardton\n"
          ]
        }
      ],
      "source": [
        "#print \"str\" (string - sequences of character data)\n",
        "print('Welcome to Wizardton')"
      ]
    },
    {
      "cell_type": "code",
      "source": [
        "#print \"int\" (integers) and \"float\" (floating point number)\n",
        "print(120) \n",
        "print(4.265) \n",
        "#Note: Numbers (integers and floats) do not require quotation marks."
      ],
      "metadata": {
        "id": "Q0IuPfvFumQ0",
        "outputId": "488d9819-8a14-4226-82d8-44985ffeab8a",
        "colab": {
          "base_uri": "https://localhost:8080/"
        }
      },
      "execution_count": null,
      "outputs": [
        {
          "output_type": "stream",
          "name": "stdout",
          "text": [
            "120\n",
            "4.265\n"
          ]
        }
      ]
    },
    {
      "cell_type": "markdown",
      "source": [
        "2. Data Types"
      ],
      "metadata": {
        "id": "_GUGs2d3HwzO"
      }
    },
    {
      "cell_type": "code",
      "source": [
        "print(type('Juan'))\n",
        "print(type(13))\n",
        "print(type(2027.265))"
      ],
      "metadata": {
        "id": "zbE2jyh7HzSo",
        "outputId": "e01b0ac9-6858-4ef0-9344-4beefff0ee04",
        "colab": {
          "base_uri": "https://localhost:8080/"
        }
      },
      "execution_count": null,
      "outputs": [
        {
          "output_type": "stream",
          "name": "stdout",
          "text": [
            "<class 'str'>\n",
            "<class 'int'>\n",
            "<class 'float'>\n"
          ]
        }
      ]
    },
    {
      "cell_type": "markdown",
      "source": [
        "3. Arthmetic Operations"
      ],
      "metadata": {
        "id": "sqcdQDC0LvAy"
      }
    },
    {
      "cell_type": "code",
      "source": [
        "#Common Arithmetic operations\n",
        "print(3+4)\n",
        "print(3*4)\n",
        "print(8/4)\n",
        "print(8//4)"
      ],
      "metadata": {
        "id": "LCQNswUuAlRF",
        "outputId": "c3e12994-84f5-41f0-8c72-98ea7b8e4c82",
        "colab": {
          "base_uri": "https://localhost:8080/"
        }
      },
      "execution_count": null,
      "outputs": [
        {
          "output_type": "stream",
          "name": "stdout",
          "text": [
            "7\n",
            "12\n",
            "2.0\n",
            "2\n"
          ]
        }
      ]
    },
    {
      "cell_type": "code",
      "source": [
        "#Exercise:\n",
        "#Sheena bought 3 chocolate frogs, while Mary bought 4. How many chocolate frogs did they buy in total?\n",
        "#What will the result for print(‘3+4’) be? What about print(3+4)? What about (3+'4')?"
      ],
      "metadata": {
        "id": "gLEasCHhusAb"
      },
      "execution_count": null,
      "outputs": []
    },
    {
      "cell_type": "markdown",
      "source": [
        "4. String concatenation"
      ],
      "metadata": {
        "id": "JItbyid7MA_n"
      }
    },
    {
      "cell_type": "code",
      "source": [
        "#combining \"str\"\n",
        "print('Welcome'+'to'+'Wizardton')\n",
        "#note there is no space between the words in the output because each string was treated as-is."
      ],
      "metadata": {
        "id": "L_NkfBcwuhWP"
      },
      "execution_count": null,
      "outputs": []
    },
    {
      "cell_type": "markdown",
      "source": [
        "5. Variable assignment"
      ],
      "metadata": {
        "id": "gG6a8FI0Wpty"
      }
    },
    {
      "cell_type": "code",
      "source": [
        "#assignment variables\n",
        "#touch on naming convention (no space in variable names)\n",
        "name='Sheena'\n",
        "age = 13\n",
        "graduation_year = 2027.265"
      ],
      "metadata": {
        "id": "uJUEDWMEMubg"
      },
      "execution_count": null,
      "outputs": []
    },
    {
      "cell_type": "code",
      "source": [
        "# exercise: what will the result be and why?\n",
        "name='Sheena'\n",
        "print(name)\n",
        "name ='Mary'\n",
        "print(name)"
      ],
      "metadata": {
        "id": "DZPBlz4upH5O"
      },
      "execution_count": null,
      "outputs": []
    }
  ]
}